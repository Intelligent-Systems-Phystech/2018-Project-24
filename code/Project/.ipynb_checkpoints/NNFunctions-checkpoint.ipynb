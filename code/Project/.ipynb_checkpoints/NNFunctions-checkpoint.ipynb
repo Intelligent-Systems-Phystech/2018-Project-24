{
 "cells": [
  {
   "cell_type": "code",
   "execution_count": null,
   "metadata": {},
   "outputs": [],
   "source": [
    "import torch.nn as nn\n",
    "from torch.nn import functional as F \n",
    "  \n",
    "class IndConv2(nn.Module):\n",
    "    def __init__(self, in_channels=1, out_channels=1, mode='nearest'):\n",
    "        super(IndConv2, self).__init__()\n",
    "        \n",
    "        self.mode = mode\n",
    "        self.in_channels = in_channels\n",
    "        self.A00 = nn.Conv2d(in_channels, out_channels, (3,3))\n",
    "        self.A01 = nn.Conv2d(in_channels, out_channels, (3,3))\n",
    "        self.A02 = nn.Conv2d(in_channels, out_channels, (3,3))\n",
    "        self.A10 = nn.Conv2d(in_channels, out_channels, (3,3))\n",
    "        self.A11 = nn.Conv2d(in_channels, out_channels, (3,3))\n",
    "        self.A12 = nn.Conv2d(in_channels, out_channels, (3,3))\n",
    "        self.A20 = nn.Conv2d(in_channels, out_channels, (3,3))\n",
    "        self.A21 = nn.Conv2d(in_channels, out_channels, (3,3))\n",
    "        self.A22 = nn.Conv2d(in_channels, out_channels, (3,3))\n",
    "    \n",
    "    def forward(self, x):\n",
    "        ins = F.interpolate(x.reshape(x.shape[0], self.in_channels, 3, 3), scale_factor=3), mode=self.mode)\n",
    "        out = torch.ones((x.shape[0], self.in_channels, 3, 3)).type(torch.cuda.FloatTensor)\n",
    "    \n",
    "        out[:, :, 0, 0] = self.A00(ins[:, :, 2:5, 2:5])[:, :, 0, 0]\n",
    "        out[:, :, 0, 2] = self.A02(ins[:, :, 2:5, 4:7])[:, :, 0, 0]\n",
    "        out[:, :, 2, 2] = self.A22(ins[:, :, 4:7, 4:7])[:, :, 0, 0]\n",
    "        out[:, :, 2, 0] = self.A20(ins[:, :, 4:7, 2:5])[:, :, 0, 0]\n",
    "        out[:, :, 1, 0] = self.A10(ins[:, :, 3:6, 2:5])[:, :, 0, 0]\n",
    "        out[:, :, 0, 1] = self.A01(ins[:, :, 2:5, 3:6])[:, :, 0, 0]\n",
    "        out[:, :, 1, 2] = self.A12(ins[:, :, 3:6, 4:7])[:, :, 0, 0]\n",
    "        out[:, :, 2, 1] = self.A21(ins[:, :, 4:7, 3:6])[:, :, 0, 0]\n",
    "        out[:, :, 1, 1] = self.A11(ins[:, :, 3:6, 3:6])[:, :, 0, 0]\n",
    "\n",
    "        return out"
   ]
  }
 ],
 "metadata": {
  "kernelspec": {
   "display_name": "Python 3",
   "language": "python",
   "name": "python3"
  },
  "language_info": {
   "codemirror_mode": {
    "name": "ipython",
    "version": 3
   },
   "file_extension": ".py",
   "mimetype": "text/x-python",
   "name": "python",
   "nbconvert_exporter": "python",
   "pygments_lexer": "ipython3",
   "version": "3.6.5"
  }
 },
 "nbformat": 4,
 "nbformat_minor": 2
}
